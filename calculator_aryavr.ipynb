{
 "cells": [
  {
   "cell_type": "markdown",
   "id": "c1515d62-a719-4c75-91c7-596071e5f6ea",
   "metadata": {},
   "source": [
    "# calculator(project)"
   ]
  },
  {
   "cell_type": "code",
   "execution_count": 5,
   "id": "6fde95d0-feb7-4801-9576-68aae43d5621",
   "metadata": {},
   "outputs": [],
   "source": [
    "from tkinter import *\n",
    "\n",
    "def button_click(value):\n",
    "    current = result_label[\"text\"]\n",
    "    if value == \"=\":\n",
    "        try:\n",
    "            result = eval(current)\n",
    "            result_label.config(text=str(result))\n",
    "        except:\n",
    "            result_label.config(text=\"Error\")\n",
    "    elif value == \"DEL\":\n",
    "        result_label.config(text=current[:-1])\n",
    "    elif value == \"C\":\n",
    "        result_label.config(text=\"\")\n",
    "    else:\n",
    "        result_label.config(text=current + value)\n",
    "\n",
    "window=Tk()\n",
    "window.geometry(\"390x400\")\n",
    "window.title(\"Calculator\")\n",
    "window.config(bg=\"light blue\")\n",
    "\n",
    "\n",
    "\n",
    "result_label = Label(window, text=\"\", font=(\"Times New Roman\", 16), bg=\"white\",anchor=\"e\",  justify=RIGHT)\n",
    "result_label.grid(row=1, column=1, columnspan=4, padx=10, pady=30, sticky=\"we\")\n",
    "\n",
    "\n",
    "Button(window, text=\"(\", width=8, height=2, font=(\"Arial\", 12), bg=\"white\",command=lambda: button_click(\"(\")).grid(row=2, column=1, padx=5, pady=5)\n",
    "Button(window, text=\")\", width=8, height=2, font=(\"Arial\", 12), bg=\"white\",command=lambda: button_click(\")\")).grid(row=2, column=2, padx=5, pady=5)\n",
    "Button(window, text=\"DEL\", width=8, height=2, font=(\"Arial\", 12), bg=\"white\",command=lambda: button_click(\"DEL\")).grid(row=2, column=3, padx=5, pady=5)\n",
    "Button(window, text=\"/\", width=8, height=2, font=(\"Arial\", 12), bg=\"white\", command=lambda: button_click(\"/\")).grid(row=2, column=4, padx=5, pady=5)\n",
    "\n",
    "Button(window, text=\"7\", width=\"8\", height=\"2\", font=(\"Arial\", 12), bg=\"white\", command=lambda: button_click(\"7\")).grid(row=3, column=1, padx=5, pady=5)\n",
    "Button(window, text=\"8\", width=\"8\", height=\"2\", font=(\"Arial\", 12), bg=\"white\", command=lambda: button_click(\"8\")).grid(row=3, column=2, padx=5, pady=5)\n",
    "Button(window, text=\"9\", width=\"8\", height=\"2\", font=(\"Arial\", 12), bg=\"white\", command=lambda: button_click(\"9\")).grid(row=3, column=3, padx=5, pady=5)\n",
    "Button(window, text=\"x\", width=\"8\", height=\"2\", font=(\"Arial\", 12), bg=\"white\", command=lambda: button_click(\"*\")).grid(row=3, column=4, padx=5, pady=5)\n",
    "\n",
    "Button(window, text=\"4\", width=\"8\", height=\"2\", font=(\"Arial\", 12), bg=\"white\", command=lambda: button_click(\"4\")).grid(row=4, column=1, padx=5, pady=5)\n",
    "Button(window, text=\"5\", width=\"8\", height=\"2\", font=(\"Arial\", 12), bg=\"white\", command=lambda: button_click(\"5\")).grid(row=4, column=2, padx=5, pady=5)\n",
    "Button(window, text=\"6\", width=\"8\", height=\"2\", font=(\"Arial\", 12), bg=\"white\", command=lambda: button_click(\"6\")).grid(row=4, column=3, padx=5, pady=5)\n",
    "Button(window, text=\"-\", width=\"8\", height=\"2\", font=(\"Arial\", 12), bg=\"white\", command=lambda: button_click(\"-\")).grid(row=4, column=4, padx=5, pady=5)\n",
    "\n",
    "\n",
    "Button(window, text=\"1\", width=\"8\", height=\"2\", font=(\"Arial\", 12), bg=\"white\", command=lambda: button_click(\"1\")).grid(row=5, column=1, padx=5, pady=5)\n",
    "Button(window, text=\"2\", width=\"8\", height=\"2\", font=(\"Arial\", 12), bg=\"white\", command=lambda: button_click(\"2\")).grid(row=5, column=2, padx=5, pady=5)\n",
    "Button(window, text=\"3\", width=\"8\", height=\"2\", font=(\"Arial\", 12), bg=\"white\", command=lambda: button_click(\"3\")).grid(row=5, column=3, padx=5, pady=5)\n",
    "Button(window, text=\"+\", width=\"8\", height=\"2\", font=(\"Arial\", 12), bg=\"white\", command=lambda: button_click(\"+\")).grid(row=5, column=4, padx=5, pady=5)\n",
    "\n",
    "Button(window, text=\"0\", width=\"8\", height=\"2\", font=(\"Arial\", 12), bg=\"white\", command=lambda: button_click(\"0\")).grid(row=6, column=1, padx=5, pady=5)\n",
    "Button(window, text=\".\", width=\"8\", height=\"2\", font=(\"Arial\", 12), bg=\"white\", command=lambda: button_click(\".\")).grid(row=6, column=2, padx=5, pady=5)\n",
    "Button(window, text=\"C\", width=\"8\", height=\"2\", font=(\"Arial\", 12), bg=\"red\", command=lambda: button_click(\"C\")).grid(row=6, column=3, padx=5, pady=5)\n",
    "Button(window, text=\"=\", width=\"8\", height=\"2\", font=(\"Arial\", 12), bg=\"lightgreen\", command=lambda: button_click(\"=\")).grid(row=6, column=4, padx=5, pady=5)\n",
    "\n",
    "\n",
    "window.mainloop()"
   ]
  },
  {
   "cell_type": "code",
   "execution_count": null,
   "id": "4edd1537-093c-49b6-863c-edfc83c6fd5f",
   "metadata": {},
   "outputs": [],
   "source": []
  },
  {
   "cell_type": "code",
   "execution_count": null,
   "id": "892e0fa4-80b7-47f4-b79c-c24371b1bb84",
   "metadata": {},
   "outputs": [],
   "source": []
  },
  {
   "cell_type": "code",
   "execution_count": null,
   "id": "11a747cb-7e0c-42aa-a9f9-e8f769c342bf",
   "metadata": {},
   "outputs": [],
   "source": []
  },
  {
   "cell_type": "code",
   "execution_count": null,
   "id": "29b80c1f-91ac-46d0-b673-d629106a712b",
   "metadata": {},
   "outputs": [],
   "source": []
  }
 ],
 "metadata": {
  "kernelspec": {
   "display_name": "Python 3 (ipykernel)",
   "language": "python",
   "name": "python3"
  },
  "language_info": {
   "codemirror_mode": {
    "name": "ipython",
    "version": 3
   },
   "file_extension": ".py",
   "mimetype": "text/x-python",
   "name": "python",
   "nbconvert_exporter": "python",
   "pygments_lexer": "ipython3",
   "version": "3.13.4"
  }
 },
 "nbformat": 4,
 "nbformat_minor": 5
}
